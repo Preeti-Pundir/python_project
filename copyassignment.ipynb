{
 "cells": [
  {
   "cell_type": "code",
   "execution_count": 1,
   "metadata": {},
   "outputs": [],
   "source": [
    "import turtle\n",
    "import time"
   ]
  },
  {
   "cell_type": "code",
   "execution_count": 2,
   "metadata": {},
   "outputs": [],
   "source": [
    "screen = turtle.Screen()\n",
    "screen.bgcolor(\"white\")\n",
    "screen.setup(width=600, height=600)\n",
    "screen.title(\"Ghadi\")\n",
    "screen.tracer(0)"
   ]
  },
  {
   "cell_type": "code",
   "execution_count": 3,
   "metadata": {},
   "outputs": [],
   "source": [
    "kalam = turtle.Turtle()"
   ]
  },
  {
   "cell_type": "code",
   "execution_count": 4,
   "metadata": {},
   "outputs": [],
   "source": [
    "kalam.hideturtle()"
   ]
  },
  {
   "cell_type": "code",
   "execution_count": 5,
   "metadata": {},
   "outputs": [],
   "source": [
    "kalam.speed(0)"
   ]
  },
  {
   "cell_type": "code",
   "execution_count": 6,
   "metadata": {},
   "outputs": [],
   "source": [
    "kalam.pensize(3)"
   ]
  },
  {
   "cell_type": "code",
   "execution_count": 7,
   "metadata": {},
   "outputs": [],
   "source": [
    "def ghadi_bana(ghantaa, minutee, secondd, kalam):\n",
    "    kalam.up()\n",
    "    kalam.goto(0, 210)\n",
    "    kalam.setheading(180)\n",
    "    kalam.color(\"red\")\n",
    "    kalam.pendown()\n",
    "    kalam.circle(210)\n",
    "\n",
    "    kalam.up()\n",
    "    kalam.goto(0, 0)\n",
    "    kalam.setheading(90)\n",
    "\n",
    "    for z in range(12):\n",
    "        kalam.fd(190)\n",
    "        kalam.pendown()\n",
    "        kalam.fd(20)\n",
    "        kalam.penup()\n",
    "        kalam.goto(0, 0)\n",
    "        kalam.rt(30)\n",
    "\n",
    "    hands = [(\"black\", 80, 12), (\"black\", 150, 60), (\"black\", 110, 60)]\n",
    "    time_set = (ghantaa, minutee, secondd)    \n",
    "    for hand in hands:\n",
    "        time_part = time_set[hands.index(hand)]\n",
    "        angle = (time_part/hand[2])*360\n",
    "        kalam.penup()\n",
    "        kalam.goto(0, 0)\n",
    "        kalam.color(hand[0])\n",
    "        kalam.setheading(90)\n",
    "        kalam.rt(angle)\n",
    "        kalam.pendown()\n",
    "        kalam.fd(hand[1])\n"
   ]
  },
  {
   "cell_type": "code",
   "execution_count": null,
   "metadata": {},
   "outputs": [],
   "source": [
    "while True:\n",
    "    ghantaa = int(time.strftime(\"%I\"))\n",
    "    minutee = int(time.strftime(\"%M\"))\n",
    "    secondd = int(time.strftime(\"%S\"))\n",
    "    ghadi_bana(ghantaa, minutee, secondd, kalam)\n",
    "    screen.update()\n",
    "    time.sleep(1)\n",
    "    kalam.clear()"
   ]
  },
  {
   "cell_type": "code",
   "execution_count": null,
   "metadata": {},
   "outputs": [],
   "source": []
  }
 ],
 "metadata": {
  "kernelspec": {
   "display_name": "Python 3",
   "language": "python",
   "name": "python3"
  },
  "language_info": {
   "codemirror_mode": {
    "name": "ipython",
    "version": 3
   },
   "file_extension": ".py",
   "mimetype": "text/x-python",
   "name": "python",
   "nbconvert_exporter": "python",
   "pygments_lexer": "ipython3",
   "version": "3.7.4"
  }
 },
 "nbformat": 4,
 "nbformat_minor": 2
}
